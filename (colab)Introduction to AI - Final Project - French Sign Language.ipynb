{
  "cells": [
    {
      "cell_type": "code",
      "execution_count": null,
      "metadata": {
        "id": "NMWaUL4sV2Oc"
      },
      "outputs": [],
      "source": [
        "# Import packages\n",
        "import glob\n",
        "import numpy as np  #scientific computing library\n",
        "import pandas as pd #data handling library\n",
        "from PIL import Image\n",
        "import matplotlib.pyplot as plt #visualization and graphics library\n"
      ]
    },
    {
      "cell_type": "code",
      "execution_count": null,
      "metadata": {
        "id": "T2IOqfcVkRSd"
      },
      "outputs": [],
      "source": [
        "from pathlib import Path"
      ]
    },
    {
      "cell_type": "code",
      "execution_count": null,
      "metadata": {
        "id": "rqXr6HaYaqDi"
      },
      "outputs": [],
      "source": [
        "from tensorflow.keras.preprocessing.image import load_img, img_to_array\n",
        "from tensorflow.keras.utils import to_categorical\n",
        "from tensorflow.keras.models import Sequential\n",
        "from tensorflow.keras.layers import Conv2D, MaxPooling2D\n",
        "from tensorflow.keras.layers import Dense, Flatten\n",
        "from tensorflow.keras.optimizers import SGD"
      ]
    },
    {
      "cell_type": "code",
      "execution_count": null,
      "metadata": {
        "id": "_by52A4J8q-4"
      },
      "outputs": [],
      "source": [
        "from google.colab import drive"
      ]
    },
    {
      "cell_type": "code",
      "execution_count": null,
      "metadata": {
        "colab": {
          "base_uri": "https://localhost:8080/"
        },
        "id": "GBWmLl9vodNy",
        "outputId": "7ff01dd2-3ab3-49ff-e336-16701b9f24ea"
      },
      "outputs": [
        {
          "output_type": "stream",
          "name": "stdout",
          "text": [
            "Mounted at /content/gdrive\n"
          ]
        }
      ],
      "source": [
        "drive.mount('/content/gdrive')"
      ]
    },
    {
      "cell_type": "code",
      "execution_count": null,
      "metadata": {
        "id": "RTkN3K6s23lp"
      },
      "outputs": [],
      "source": [
        "# Create filepaths for the letters images\n",
        "filepath_a = \"/content/gdrive/MyDrive/LSFPNG/A/*\"\n",
        "filepath_b = \"/content/gdrive/MyDrive/LSFPNG/B/*\"\n",
        "filepath_c = \"/content/gdrive/MyDrive/LSFPNG/C/*\"\n",
        "filepath_d = \"/content/gdrive/MyDrive/LSFPNG/D/*\"\n",
        "filepath_e = \"/content/gdrive/MyDrive/LSFPNG/E/*\"\n",
        "filepath_f = \"/content/gdrive/MyDrive/LSFPNG/F/*\"\n",
        "filepath_g = \"/content/gdrive/MyDrive/LSFPNG/G/*\"\n",
        "filepath_h = \"/content/gdrive/MyDrive/LSFPNG/H/*\"\n",
        "filepath_i = \"/content/gdrive/MyDrive/LSFPNG/I/*\"\n",
        "filepath_j = \"/content/gdrive/MyDrive/LSFPNG/J/*\"\n",
        "filepath_k = \"/content/gdrive/MyDrive/LSFPNG/K/*\"\n",
        "filepath_l = \"/content/gdrive/MyDrive/LSFPNG/L/*\"\n",
        "filepath_m = \"/content/gdrive/MyDrive/LSFPNG/M/*\"\n",
        "filepath_n = \"/content/gdrive/MyDrive/LSFPNG/N/*\"\n",
        "filepath_o = \"/content/gdrive/MyDrive/LSFPNG/O/*\"\n",
        "filepath_p = \"/content/gdrive/MyDrive/LSFPNG/P/*\"\n",
        "filepath_q = \"/content/gdrive/MyDrive/LSFPNG/Q/*\"\n",
        "filepath_r = \"/content/gdrive/MyDrive/LSFPNG/R/*\"\n",
        "filepath_s = \"/content/gdrive/MyDrive/LSFPNG/S/*\"\n",
        "filepath_t = \"/content/gdrive/MyDrive/LSFPNG/T/*\"\n",
        "filepath_u = \"/content/gdrive/MyDrive/LSFPNG/U/*\"\n",
        "filepath_v = \"/content/gdrive/MyDrive/LSFPNG/V/*\"\n",
        "filepath_w = \"/content/gdrive/MyDrive/LSFPNG/W/*\"\n",
        "filepath_x = \"/content/gdrive/MyDrive/LSFPNG/X/*\"\n",
        "filepath_y = \"/content/gdrive/MyDrive/LSFPNG/Y/*\"\n",
        "filepath_z = \"/content/gdrive/MyDrive/LSFPNG/Z/*\""
      ]
    },
    {
      "cell_type": "code",
      "execution_count": null,
      "metadata": {
        "id": "EwJN9cPx3GuW"
      },
      "outputs": [],
      "source": [
        "# Collect all the image filepaths into lists\n",
        "a_files = [file for file in glob.iglob(filepath_a)]\n",
        "b_files = [file for file in glob.iglob(filepath_b)]\n",
        "c_files = [file for file in glob.iglob(filepath_c)]\n",
        "d_files = [file for file in glob.iglob(filepath_d)]\n",
        "e_files = [file for file in glob.iglob(filepath_e)]\n",
        "f_files = [file for file in glob.iglob(filepath_f)]\n",
        "g_files = [file for file in glob.iglob(filepath_g)]\n",
        "h_files = [file for file in glob.iglob(filepath_h)]\n",
        "i_files = [file for file in glob.iglob(filepath_i)]\n",
        "j_files = [file for file in glob.iglob(filepath_j)]\n",
        "k_files = [file for file in glob.iglob(filepath_k)]\n",
        "l_files = [file for file in glob.iglob(filepath_l)]\n",
        "m_files = [file for file in glob.iglob(filepath_m)]\n",
        "n_files = [file for file in glob.iglob(filepath_n)]\n",
        "o_files = [file for file in glob.iglob(filepath_o)]\n",
        "p_files = [file for file in glob.iglob(filepath_p)]\n",
        "q_files = [file for file in glob.iglob(filepath_q)]\n",
        "r_files = [file for file in glob.iglob(filepath_r)]\n",
        "s_files = [file for file in glob.iglob(filepath_s)]\n",
        "t_files = [file for file in glob.iglob(filepath_t)]\n",
        "u_files = [file for file in glob.iglob(filepath_u)]\n",
        "v_files = [file for file in glob.iglob(filepath_v)]\n",
        "w_files = [file for file in glob.iglob(filepath_w)]\n",
        "x_files = [file for file in glob.iglob(filepath_x)]\n",
        "y_files = [file for file in glob.iglob(filepath_y)]\n",
        "z_files = [file for file in glob.iglob(filepath_z)]"
      ]
    },
    {
      "cell_type": "code",
      "execution_count": null,
      "metadata": {
        "colab": {
          "base_uri": "https://localhost:8080/"
        },
        "id": "ocLOTGhh3nAs",
        "outputId": "afa6b1b1-d801-40b4-c18e-d0b5cc028f49"
      },
      "outputs": [
        {
          "output_type": "execute_result",
          "data": {
            "text/plain": [
              "['/content/gdrive/MyDrive/LSFPNG/A/A3.png',\n",
              " '/content/gdrive/MyDrive/LSFPNG/A/A4.png',\n",
              " '/content/gdrive/MyDrive/LSFPNG/A/A5.png',\n",
              " '/content/gdrive/MyDrive/LSFPNG/A/A6.png',\n",
              " '/content/gdrive/MyDrive/LSFPNG/A/A7.png',\n",
              " '/content/gdrive/MyDrive/LSFPNG/A/A8.png',\n",
              " '/content/gdrive/MyDrive/LSFPNG/A/A9.png',\n",
              " '/content/gdrive/MyDrive/LSFPNG/A/A10.png',\n",
              " '/content/gdrive/MyDrive/LSFPNG/A/A11.png',\n",
              " '/content/gdrive/MyDrive/LSFPNG/A/A12.png',\n",
              " '/content/gdrive/MyDrive/LSFPNG/A/A13.png',\n",
              " '/content/gdrive/MyDrive/LSFPNG/A/A14.png',\n",
              " '/content/gdrive/MyDrive/LSFPNG/A/A15.png',\n",
              " '/content/gdrive/MyDrive/LSFPNG/A/A16.png',\n",
              " '/content/gdrive/MyDrive/LSFPNG/A/A17.png',\n",
              " '/content/gdrive/MyDrive/LSFPNG/A/A18.png',\n",
              " '/content/gdrive/MyDrive/LSFPNG/A/A2.png',\n",
              " '/content/gdrive/MyDrive/LSFPNG/A/A1.png',\n",
              " '/content/gdrive/MyDrive/LSFPNG/A/A19.png',\n",
              " '/content/gdrive/MyDrive/LSFPNG/A/A20.png']"
            ]
          },
          "metadata": {},
          "execution_count": 8
        }
      ],
      "source": [
        "a_files"
      ]
    },
    {
      "cell_type": "code",
      "execution_count": null,
      "metadata": {
        "colab": {
          "base_uri": "https://localhost:8080/"
        },
        "id": "BeCNuRiIUuGA",
        "outputId": "6068bf92-1042-4a41-9014-3283463e3c00"
      },
      "outputs": [
        {
          "output_type": "execute_result",
          "data": {
            "text/plain": [
              "['/content/gdrive/MyDrive/LSFPNG/B/B3.png',\n",
              " '/content/gdrive/MyDrive/LSFPNG/B/B4.png',\n",
              " '/content/gdrive/MyDrive/LSFPNG/B/B5.png',\n",
              " '/content/gdrive/MyDrive/LSFPNG/B/B6.png',\n",
              " '/content/gdrive/MyDrive/LSFPNG/B/B7.png',\n",
              " '/content/gdrive/MyDrive/LSFPNG/B/B8.png',\n",
              " '/content/gdrive/MyDrive/LSFPNG/B/B9.png',\n",
              " '/content/gdrive/MyDrive/LSFPNG/B/B10.png',\n",
              " '/content/gdrive/MyDrive/LSFPNG/B/B11.png',\n",
              " '/content/gdrive/MyDrive/LSFPNG/B/B12.png',\n",
              " '/content/gdrive/MyDrive/LSFPNG/B/B13.png',\n",
              " '/content/gdrive/MyDrive/LSFPNG/B/B14.png',\n",
              " '/content/gdrive/MyDrive/LSFPNG/B/B15.png',\n",
              " '/content/gdrive/MyDrive/LSFPNG/B/B16.png',\n",
              " '/content/gdrive/MyDrive/LSFPNG/B/B17.png',\n",
              " '/content/gdrive/MyDrive/LSFPNG/B/B1.png',\n",
              " '/content/gdrive/MyDrive/LSFPNG/B/B2.png',\n",
              " '/content/gdrive/MyDrive/LSFPNG/B/B18.png',\n",
              " '/content/gdrive/MyDrive/LSFPNG/B/B20.png',\n",
              " '/content/gdrive/MyDrive/LSFPNG/B/B19.png']"
            ]
          },
          "metadata": {},
          "execution_count": 9
        }
      ],
      "source": [
        "b_files"
      ]
    },
    {
      "cell_type": "code",
      "execution_count": null,
      "metadata": {
        "colab": {
          "base_uri": "https://localhost:8080/"
        },
        "id": "QSmyqLG0B_WD",
        "outputId": "a9bec859-0567-4198-c357-908d24c0bc38"
      },
      "outputs": [
        {
          "output_type": "execute_result",
          "data": {
            "text/plain": [
              "['/content/gdrive/MyDrive/LSFPNG/Z/Z2.png',\n",
              " '/content/gdrive/MyDrive/LSFPNG/Z/Z3.png',\n",
              " '/content/gdrive/MyDrive/LSFPNG/Z/Z4.png',\n",
              " '/content/gdrive/MyDrive/LSFPNG/Z/Z5.png',\n",
              " '/content/gdrive/MyDrive/LSFPNG/Z/Z6.png',\n",
              " '/content/gdrive/MyDrive/LSFPNG/Z/Z7.png',\n",
              " '/content/gdrive/MyDrive/LSFPNG/Z/Z8.png',\n",
              " '/content/gdrive/MyDrive/LSFPNG/Z/Z9.png',\n",
              " '/content/gdrive/MyDrive/LSFPNG/Z/Z10.png',\n",
              " '/content/gdrive/MyDrive/LSFPNG/Z/Z11.png',\n",
              " '/content/gdrive/MyDrive/LSFPNG/Z/Z12.png',\n",
              " '/content/gdrive/MyDrive/LSFPNG/Z/Z13.png',\n",
              " '/content/gdrive/MyDrive/LSFPNG/Z/Z14.png',\n",
              " '/content/gdrive/MyDrive/LSFPNG/Z/Z15.png',\n",
              " '/content/gdrive/MyDrive/LSFPNG/Z/Z16.png',\n",
              " '/content/gdrive/MyDrive/LSFPNG/Z/Z1.png',\n",
              " '/content/gdrive/MyDrive/LSFPNG/Z/Z17.png',\n",
              " '/content/gdrive/MyDrive/LSFPNG/Z/Z20.png',\n",
              " '/content/gdrive/MyDrive/LSFPNG/Z/Z19.png',\n",
              " '/content/gdrive/MyDrive/LSFPNG/Z/Z18.png']"
            ]
          },
          "metadata": {},
          "execution_count": 10
        }
      ],
      "source": [
        "z_files"
      ]
    },
    {
      "cell_type": "code",
      "execution_count": null,
      "metadata": {
        "id": "t0-dp1AEUQjr"
      },
      "outputs": [],
      "source": [
        "\n",
        "#Create input(data) and output(target) dataset\n",
        "#Label a as 1, and b as 2 etc\n",
        "\n",
        "data = []\n",
        "target = []\n",
        "\n",
        "for pa in range(len(a_files)):\n",
        "    img = load_img(a_files[pa], target_size = (224, 224))\n",
        "    x = np.array(img)\n",
        "    data.append(x)\n",
        "    target.append(0) #a: Label 0\n",
        "\n",
        "for pb in range(len(b_files)):\n",
        "    img = load_img(b_files[pb], target_size = (224, 224))\n",
        "    x = np.array(img)\n",
        "    data.append(x)\n",
        "    target.append(1) #b: Label 1\n",
        "\n",
        "for pc in range(len(c_files)):\n",
        "    img = load_img(c_files[pc], target_size = (224, 224))\n",
        "    x = np.array(img)\n",
        "    data.append(x)\n",
        "    target.append(2)\n",
        "\n",
        "for pd in range(len(d_files)):\n",
        "    img = load_img(d_files[pd], target_size = (224, 224))\n",
        "    x = np.array(img)\n",
        "    data.append(x)\n",
        "    target.append(3)  \n",
        "\n",
        "for pe in range(len(e_files)):\n",
        "    img = load_img(e_files[pe], target_size = (224, 224))\n",
        "    x = np.array(img)\n",
        "    data.append(x)\n",
        "    target.append(4)    \n",
        "\n",
        "for pf in range(len(f_files)):\n",
        "    img = load_img(f_files[pf], target_size = (224, 224))\n",
        "    x = np.array(img)\n",
        "    data.append(x)\n",
        "    target.append(5)\n",
        "\n",
        "for pg in range(len(g_files)):\n",
        "    img = load_img(g_files[pg], target_size = (224, 224))\n",
        "    x = np.array(img)\n",
        "    data.append(x)\n",
        "    target.append(6)\n",
        "\n",
        "for ph in range(len(h_files)):\n",
        "    img = load_img(h_files[ph], target_size = (224, 224))\n",
        "    x = np.array(img)\n",
        "    data.append(x)\n",
        "    target.append(7)\n",
        "\n",
        "for pi in range(len(i_files)):\n",
        "    img = load_img(i_files[pi], target_size = (224, 224))\n",
        "    x = np.array(img)\n",
        "    data.append(x)\n",
        "    target.append(8)\n",
        "\n",
        "for pj in range(len(j_files)):\n",
        "    img = load_img(j_files[pj], target_size = (224, 224))\n",
        "    x = np.array(img)\n",
        "    data.append(x)\n",
        "    target.append(9)\n",
        "\n",
        "for pk in range(len(k_files)):\n",
        "    img = load_img(k_files[pk], target_size = (224, 224))\n",
        "    x = np.array(img)\n",
        "    data.append(x)\n",
        "    target.append(10)\n",
        "\n",
        "for pl in range(len(l_files)):\n",
        "    img = load_img(l_files[pl], target_size = (224, 224))\n",
        "    x = np.array(img)\n",
        "    data.append(x)\n",
        "    target.append(11)\n",
        "\n",
        "for pm in range(len(m_files)):\n",
        "    img = load_img(m_files[pm], target_size = (224, 224))\n",
        "    x = np.array(img)\n",
        "    data.append(x)\n",
        "    target.append(12)\n",
        "\n",
        "for pn in range(len(n_files)):\n",
        "    img = load_img(n_files[pn], target_size = (224, 224))\n",
        "    x = np.array(img)\n",
        "    data.append(x)\n",
        "    target.append(13)\n",
        "\n",
        "for po in range(len(o_files)):\n",
        "    img = load_img(o_files[po], target_size = (224, 224))\n",
        "    x = np.array(img)\n",
        "    data.append(x)\n",
        "    target.append(14)\n",
        "\n",
        "for pp in range(len(p_files)):\n",
        "    img = load_img(p_files[pp], target_size = (224, 224))\n",
        "    x = np.array(img)\n",
        "    data.append(x)\n",
        "    target.append(15)\n",
        "\n",
        "for pq in range(len(q_files)):\n",
        "    img = load_img(q_files[pq], target_size = (224, 224))\n",
        "    x = np.array(img)\n",
        "    data.append(x)\n",
        "    target.append(16)\n",
        "\n",
        "for pr in range(len(r_files)):\n",
        "    img = load_img(r_files[pr], target_size = (224, 224))\n",
        "    x = np.array(img)\n",
        "    data.append(x)\n",
        "    target.append(17)\n",
        "\n",
        "for ps in range(len(s_files)):\n",
        "    img = load_img(s_files[ps], target_size = (224, 224))\n",
        "    x = np.array(img)\n",
        "    data.append(x)\n",
        "    target.append(18)\n",
        "\n",
        "for pt in range(len(t_files)):\n",
        "    img = load_img(t_files[pt], target_size = (224, 224))\n",
        "    x = np.array(img)\n",
        "    data.append(x)\n",
        "    target.append(19)\n",
        "\n",
        "for pu in range(len(u_files)):\n",
        "    img = load_img(u_files[pu], target_size = (224, 224))\n",
        "    x = np.array(img)\n",
        "    data.append(x)\n",
        "    target.append(20)\n",
        "\n",
        "for pv in range(len(v_files)):\n",
        "    img = load_img(v_files[pv], target_size = (224, 224))\n",
        "    x = np.array(img)\n",
        "    data.append(x)\n",
        "    target.append(21)\n",
        "\n",
        "for pw in range(len(w_files)):\n",
        "    img = load_img(w_files[pw], target_size = (224, 224))\n",
        "    x = np.array(img)\n",
        "    data.append(x)\n",
        "    target.append(22)\n",
        "\n",
        "for px in range(len(x_files)):\n",
        "    img = load_img(x_files[px], target_size = (224, 224))\n",
        "    x = np.array(img)\n",
        "    data.append(x)\n",
        "    target.append(23)\n",
        "\n",
        "for py in range(len(y_files)):\n",
        "    img = load_img(y_files[py], target_size = (224, 224))\n",
        "    x = np.array(img)\n",
        "    data.append(x)\n",
        "    target.append(24)\n",
        "\n",
        "for pz in range(len(z_files)):\n",
        "    img = load_img(z_files[pz], target_size = (224, 224))\n",
        "    x = np.array(img)\n",
        "    data.append(x)\n",
        "    target.append(25)"
      ]
    },
    {
      "cell_type": "code",
      "execution_count": null,
      "metadata": {
        "id": "3NBl4hkEZ6xb"
      },
      "outputs": [],
      "source": [
        "data = np.array(data)\n",
        "target = np.array(target)"
      ]
    },
    {
      "cell_type": "code",
      "execution_count": null,
      "metadata": {
        "colab": {
          "base_uri": "https://localhost:8080/"
        },
        "id": "9L_29UymZ-0N",
        "outputId": "97f3d06a-c3dd-42a1-8b81-bbd632befa47"
      },
      "outputs": [
        {
          "output_type": "execute_result",
          "data": {
            "text/plain": [
              "(520, 224, 224, 3)"
            ]
          },
          "metadata": {},
          "execution_count": 13
        }
      ],
      "source": [
        "data.shape"
      ]
    },
    {
      "cell_type": "code",
      "execution_count": null,
      "metadata": {
        "colab": {
          "base_uri": "https://localhost:8080/"
        },
        "id": "ddrmEXGSaCYb",
        "outputId": "5b8b9497-f3ab-4558-dc79-199026f27b3e"
      },
      "outputs": [
        {
          "output_type": "execute_result",
          "data": {
            "text/plain": [
              "(520,)"
            ]
          },
          "metadata": {},
          "execution_count": 14
        }
      ],
      "source": [
        "target.shape"
      ]
    },
    {
      "cell_type": "code",
      "execution_count": null,
      "metadata": {
        "id": "l83rbmZdabN5"
      },
      "outputs": [],
      "source": [
        "from sklearn.model_selection import train_test_split"
      ]
    },
    {
      "cell_type": "code",
      "execution_count": null,
      "metadata": {
        "id": "Lvu9tffgaelg"
      },
      "outputs": [],
      "source": [
        "#Separate data and target into train and test data.\n",
        "x_train, x_test, y_train, y_test = train_test_split(data, target, \n",
        "                                                    test_size = 0.2, #80/20\n",
        "                                                    random_state = 0)"
      ]
    },
    {
      "cell_type": "code",
      "execution_count": null,
      "metadata": {
        "colab": {
          "base_uri": "https://localhost:8080/"
        },
        "id": "1zvY7hpzbgox",
        "outputId": "ecd4a4e0-c730-4562-d988-f469f48e41d8"
      },
      "outputs": [
        {
          "output_type": "execute_result",
          "data": {
            "text/plain": [
              "array([[[[255, 255, 255],\n",
              "         [255, 255, 255],\n",
              "         [255, 255, 255],\n",
              "         ...,\n",
              "         [255, 255, 255],\n",
              "         [255, 255, 255],\n",
              "         [255, 255, 255]],\n",
              "\n",
              "        [[255, 255, 255],\n",
              "         [255, 255, 255],\n",
              "         [255, 255, 255],\n",
              "         ...,\n",
              "         [255, 255, 255],\n",
              "         [255, 255, 255],\n",
              "         [255, 255, 255]],\n",
              "\n",
              "        [[255, 255, 255],\n",
              "         [255, 255, 255],\n",
              "         [255, 255, 255],\n",
              "         ...,\n",
              "         [255, 255, 255],\n",
              "         [255, 255, 255],\n",
              "         [255, 255, 255]],\n",
              "\n",
              "        ...,\n",
              "\n",
              "        [[255, 255, 255],\n",
              "         [255, 255, 255],\n",
              "         [255, 255, 255],\n",
              "         ...,\n",
              "         [255, 255, 255],\n",
              "         [255, 255, 255],\n",
              "         [255, 255, 255]],\n",
              "\n",
              "        [[255, 255, 255],\n",
              "         [255, 255, 255],\n",
              "         [255, 255, 255],\n",
              "         ...,\n",
              "         [255, 255, 255],\n",
              "         [255, 255, 255],\n",
              "         [255, 255, 255]],\n",
              "\n",
              "        [[255, 255, 255],\n",
              "         [255, 255, 255],\n",
              "         [255, 255, 255],\n",
              "         ...,\n",
              "         [255, 255, 255],\n",
              "         [255, 255, 255],\n",
              "         [255, 255, 255]]],\n",
              "\n",
              "\n",
              "       [[[255, 255, 255],\n",
              "         [255, 255, 255],\n",
              "         [255, 255, 255],\n",
              "         ...,\n",
              "         [255, 255, 255],\n",
              "         [255, 255, 255],\n",
              "         [255, 255, 255]],\n",
              "\n",
              "        [[255, 255, 255],\n",
              "         [255, 255, 255],\n",
              "         [255, 255, 255],\n",
              "         ...,\n",
              "         [255, 255, 255],\n",
              "         [255, 255, 255],\n",
              "         [255, 255, 255]],\n",
              "\n",
              "        [[255, 255, 255],\n",
              "         [255, 255, 255],\n",
              "         [255, 255, 255],\n",
              "         ...,\n",
              "         [255, 255, 255],\n",
              "         [255, 255, 255],\n",
              "         [255, 255, 255]],\n",
              "\n",
              "        ...,\n",
              "\n",
              "        [[255, 255, 255],\n",
              "         [255, 255, 255],\n",
              "         [255, 255, 255],\n",
              "         ...,\n",
              "         [255, 255, 255],\n",
              "         [255, 255, 255],\n",
              "         [255, 255, 255]],\n",
              "\n",
              "        [[255, 255, 255],\n",
              "         [255, 255, 255],\n",
              "         [255, 255, 255],\n",
              "         ...,\n",
              "         [255, 255, 255],\n",
              "         [255, 255, 255],\n",
              "         [255, 255, 255]],\n",
              "\n",
              "        [[255, 255, 255],\n",
              "         [255, 255, 255],\n",
              "         [255, 255, 255],\n",
              "         ...,\n",
              "         [255, 255, 255],\n",
              "         [255, 255, 255],\n",
              "         [255, 255, 255]]],\n",
              "\n",
              "\n",
              "       [[[221, 214, 195],\n",
              "         [166, 159, 140],\n",
              "         [204, 197, 178],\n",
              "         ...,\n",
              "         [149, 150, 132],\n",
              "         [125, 125, 115],\n",
              "         [ 90,  89,  85]],\n",
              "\n",
              "        [[122, 113,  96],\n",
              "         [138, 129, 112],\n",
              "         [127, 118, 103],\n",
              "         ...,\n",
              "         [154, 155, 139],\n",
              "         [149, 150, 134],\n",
              "         [151, 152, 136]],\n",
              "\n",
              "        [[129, 120, 103],\n",
              "         [138, 129, 112],\n",
              "         [127, 118, 103],\n",
              "         ...,\n",
              "         [152, 153, 137],\n",
              "         [152, 153, 137],\n",
              "         [156, 157, 141]],\n",
              "\n",
              "        ...,\n",
              "\n",
              "        [[153, 150, 143],\n",
              "         [155, 152, 145],\n",
              "         [150, 147, 140],\n",
              "         ...,\n",
              "         [126, 120, 104],\n",
              "         [126, 120, 104],\n",
              "         [110, 104,  88]],\n",
              "\n",
              "        [[157, 154, 147],\n",
              "         [148, 145, 138],\n",
              "         [146, 143, 136],\n",
              "         ...,\n",
              "         [110, 104,  88],\n",
              "         [110, 104,  88],\n",
              "         [114, 108,  92]],\n",
              "\n",
              "        [[155, 152, 145],\n",
              "         [147, 144, 137],\n",
              "         [150, 147, 140],\n",
              "         ...,\n",
              "         [118, 111,  95],\n",
              "         [123, 116, 100],\n",
              "         [103,  96,  80]]],\n",
              "\n",
              "\n",
              "       ...,\n",
              "\n",
              "\n",
              "       [[[212, 212, 236],\n",
              "         [210, 210, 234],\n",
              "         [205, 205, 229],\n",
              "         ...,\n",
              "         [179, 182, 205],\n",
              "         [177, 180, 204],\n",
              "         [174, 177, 203]],\n",
              "\n",
              "        [[228, 229, 252],\n",
              "         [227, 228, 251],\n",
              "         [224, 225, 247],\n",
              "         ...,\n",
              "         [208, 212, 235],\n",
              "         [205, 209, 233],\n",
              "         [202, 205, 231]],\n",
              "\n",
              "        [[246, 247, 255],\n",
              "         [246, 247, 255],\n",
              "         [245, 246, 255],\n",
              "         ...,\n",
              "         [245, 249, 255],\n",
              "         [242, 246, 255],\n",
              "         [239, 243, 255]],\n",
              "\n",
              "        ...,\n",
              "\n",
              "        [[245, 246, 255],\n",
              "         [246, 246, 255],\n",
              "         [247, 247, 255],\n",
              "         ...,\n",
              "         [241, 242, 254],\n",
              "         [241, 243, 255],\n",
              "         [242, 244, 255]],\n",
              "\n",
              "        [[244, 245, 255],\n",
              "         [245, 245, 255],\n",
              "         [246, 247, 255],\n",
              "         ...,\n",
              "         [241, 242, 254],\n",
              "         [241, 243, 255],\n",
              "         [242, 245, 255]],\n",
              "\n",
              "        [[243, 244, 254],\n",
              "         [243, 244, 255],\n",
              "         [244, 245, 255],\n",
              "         ...,\n",
              "         [240, 242, 255],\n",
              "         [241, 243, 255],\n",
              "         [243, 245, 255]]],\n",
              "\n",
              "\n",
              "       [[[ 90, 111,  42],\n",
              "         [ 85, 102,  32],\n",
              "         [ 56,  68,   2],\n",
              "         ...,\n",
              "         [203, 174, 134],\n",
              "         [203, 174, 134],\n",
              "         [199, 166, 121]],\n",
              "\n",
              "        [[ 99, 120,  51],\n",
              "         [ 82,  99,  29],\n",
              "         [ 62,  74,   8],\n",
              "         ...,\n",
              "         [203, 174, 134],\n",
              "         [203, 174, 134],\n",
              "         [199, 166, 121]],\n",
              "\n",
              "        [[119, 136,  84],\n",
              "         [ 42,  52,   0],\n",
              "         [ 65,  74,  19],\n",
              "         ...,\n",
              "         [200, 171, 131],\n",
              "         [198, 169, 129],\n",
              "         [203, 171, 130]],\n",
              "\n",
              "        ...,\n",
              "\n",
              "        [[189, 142,  98],\n",
              "         [189, 142,  98],\n",
              "         [189, 142,  98],\n",
              "         ...,\n",
              "         [ 28,  26,  47],\n",
              "         [ 23,  21,  42],\n",
              "         [ 25,  24,  38]],\n",
              "\n",
              "        [[189, 142,  98],\n",
              "         [189, 142,  98],\n",
              "         [193, 146, 102],\n",
              "         ...,\n",
              "         [ 37,  35,  59],\n",
              "         [ 34,  32,  53],\n",
              "         [ 33,  29,  52]],\n",
              "\n",
              "        [[189, 142,  98],\n",
              "         [189, 142,  98],\n",
              "         [191, 144, 100],\n",
              "         ...,\n",
              "         [ 32,  30,  54],\n",
              "         [ 37,  35,  56],\n",
              "         [ 29,  26,  45]]],\n",
              "\n",
              "\n",
              "       [[[255, 255, 255],\n",
              "         [255, 255, 255],\n",
              "         [255, 255, 255],\n",
              "         ...,\n",
              "         [255, 255, 255],\n",
              "         [255, 255, 255],\n",
              "         [255, 255, 255]],\n",
              "\n",
              "        [[255, 255, 255],\n",
              "         [255, 255, 255],\n",
              "         [255, 255, 255],\n",
              "         ...,\n",
              "         [255, 255, 255],\n",
              "         [255, 255, 255],\n",
              "         [255, 255, 255]],\n",
              "\n",
              "        [[255, 255, 255],\n",
              "         [255, 255, 255],\n",
              "         [255, 255, 255],\n",
              "         ...,\n",
              "         [255, 255, 255],\n",
              "         [255, 255, 255],\n",
              "         [255, 255, 255]],\n",
              "\n",
              "        ...,\n",
              "\n",
              "        [[255, 255, 255],\n",
              "         [255, 255, 255],\n",
              "         [255, 255, 255],\n",
              "         ...,\n",
              "         [252, 255, 252],\n",
              "         [252, 255, 252],\n",
              "         [252, 255, 252]],\n",
              "\n",
              "        [[255, 255, 255],\n",
              "         [255, 255, 255],\n",
              "         [255, 255, 255],\n",
              "         ...,\n",
              "         [252, 255, 252],\n",
              "         [252, 255, 252],\n",
              "         [252, 255, 252]],\n",
              "\n",
              "        [[255, 255, 255],\n",
              "         [255, 255, 255],\n",
              "         [255, 255, 255],\n",
              "         ...,\n",
              "         [249, 255, 255],\n",
              "         [249, 255, 255],\n",
              "         [249, 255, 255]]]], dtype=uint8)"
            ]
          },
          "metadata": {},
          "execution_count": 17
        }
      ],
      "source": [
        "x_train"
      ]
    },
    {
      "cell_type": "code",
      "execution_count": null,
      "metadata": {
        "colab": {
          "base_uri": "https://localhost:8080/"
        },
        "id": "NR02ZAddCj84",
        "outputId": "94bd205b-5396-4a37-87b1-ae1795e68b09"
      },
      "outputs": [
        {
          "output_type": "execute_result",
          "data": {
            "text/plain": [
              "(224, 224, 3)"
            ]
          },
          "metadata": {},
          "execution_count": 18
        }
      ],
      "source": [
        "x_train[23].shape"
      ]
    },
    {
      "cell_type": "code",
      "execution_count": null,
      "metadata": {
        "colab": {
          "base_uri": "https://localhost:8080/"
        },
        "id": "350Nb0OfCtJG",
        "outputId": "2b075482-2422-49fa-bba0-60f0592ab98d"
      },
      "outputs": [
        {
          "output_type": "execute_result",
          "data": {
            "text/plain": [
              "416"
            ]
          },
          "metadata": {},
          "execution_count": 19
        }
      ],
      "source": [
        "len(x_train)"
      ]
    },
    {
      "cell_type": "code",
      "execution_count": null,
      "metadata": {
        "colab": {
          "base_uri": "https://localhost:8080/"
        },
        "id": "fzOqmmRmam75",
        "outputId": "1824b764-d368-4a0a-bf42-a736af117068"
      },
      "outputs": [
        {
          "output_type": "execute_result",
          "data": {
            "text/plain": [
              "104"
            ]
          },
          "metadata": {},
          "execution_count": 20
        }
      ],
      "source": [
        "len(x_test)"
      ]
    },
    {
      "cell_type": "code",
      "execution_count": null,
      "metadata": {
        "id": "9xUUGskBCoVn"
      },
      "outputs": [],
      "source": [
        "x_train = x_train.reshape(416, 224, 224, 3) / 255\n",
        "x_test = x_test.reshape(104, 224, 224, 3) / 255"
      ]
    },
    {
      "cell_type": "code",
      "execution_count": null,
      "metadata": {
        "id": "1CthHrnuDHH3"
      },
      "outputs": [],
      "source": [
        "y_train = to_categorical(y_train, 26)\n",
        "y_test = to_categorical(y_test, 26)"
      ]
    },
    {
      "cell_type": "code",
      "execution_count": null,
      "metadata": {
        "colab": {
          "base_uri": "https://localhost:8080/",
          "height": 287
        },
        "id": "vAKblZ1mKKqh",
        "outputId": "9352c7c9-ad3a-43fb-892b-498cf177c464"
      },
      "outputs": [
        {
          "output_type": "execute_result",
          "data": {
            "text/plain": [
              "<matplotlib.image.AxesImage at 0x7f85ccb85710>"
            ]
          },
          "metadata": {},
          "execution_count": 23
        },
        {
          "output_type": "display_data",
          "data": {
            "text/plain": [
              "<Figure size 432x288 with 1 Axes>"
            ],
            "image/png": "[encoded data removed]"
          },
          "metadata": {
            "needs_background": "light"
          }
        }
      ],
      "source": [
        "plt.imshow(x_train[412], cmap='Greys')"
      ]
    },
    {
      "cell_type": "code",
      "execution_count": null,
      "metadata": {
        "id": "W6RgnSwTat8a"
      },
      "outputs": [],
      "source": [
        "model = Sequential()\n",
        "model.add(Conv2D(64, (3,3), padding='same', activation='relu'))\n",
        "model.add(MaxPooling2D(pool_size=(2,2)))\n",
        "model.add(Conv2D(128, (3,3), padding='same', activation='relu'))\n",
        "model.add(MaxPooling2D(pool_size=(2,2)))\n",
        "model.add(Flatten())\n",
        "model.add(Dense(64, activation='relu'))\n",
        "model.add(Dense(26, activation='softmax'))"
      ]
    },
    {
      "cell_type": "code",
      "execution_count": null,
      "metadata": {
        "id": "sgIVNnzk-AaU"
      },
      "outputs": [],
      "source": [
        "model.compile(loss='mse', optimizer=SGD(learning_rate=0.087),\n",
        "             metrics=['accuracy'])"
      ]
    },
    {
      "cell_type": "code",
      "execution_count": null,
      "metadata": {
        "colab": {
          "base_uri": "https://localhost:8080/",
          "height": 302
        },
        "id": "pkW-9cbebPmp",
        "outputId": "41ea5436-b623-436f-9dcf-216fe40eb238"
      },
      "outputs": [
        {
          "output_type": "error",
          "ename": "ValueError",
          "evalue": "ignored",
          "traceback": [
            "\u001b[0;31m---------------------------------------------------------------------------\u001b[0m",
            "\u001b[0;31mValueError\u001b[0m                                Traceback (most recent call last)",
            "\u001b[0;32m<ipython-input-30-5f15418b3570>\u001b[0m in \u001b[0;36m<module>\u001b[0;34m()\u001b[0m\n\u001b[0;32m----> 1\u001b[0;31m \u001b[0mmodel\u001b[0m\u001b[0;34m.\u001b[0m\u001b[0msummary\u001b[0m\u001b[0;34m(\u001b[0m\u001b[0;34m)\u001b[0m\u001b[0;34m\u001b[0m\u001b[0;34m\u001b[0m\u001b[0m\n\u001b[0m",
            "\u001b[0;32m/usr/local/lib/python3.7/dist-packages/keras/engine/training.py\u001b[0m in \u001b[0;36msummary\u001b[0;34m(self, line_length, positions, print_fn, expand_nested, show_trainable)\u001b[0m\n\u001b[1;32m   2774\u001b[0m     \u001b[0;32mif\u001b[0m \u001b[0;32mnot\u001b[0m \u001b[0mself\u001b[0m\u001b[0;34m.\u001b[0m\u001b[0mbuilt\u001b[0m\u001b[0;34m:\u001b[0m\u001b[0;34m\u001b[0m\u001b[0;34m\u001b[0m\u001b[0m\n\u001b[1;32m   2775\u001b[0m       raise ValueError(\n\u001b[0;32m-> 2776\u001b[0;31m           \u001b[0;34m'This model has not yet been built. '\u001b[0m\u001b[0;34m\u001b[0m\u001b[0;34m\u001b[0m\u001b[0m\n\u001b[0m\u001b[1;32m   2777\u001b[0m           \u001b[0;34m'Build the model first by calling `build()` or by calling '\u001b[0m\u001b[0;34m\u001b[0m\u001b[0;34m\u001b[0m\u001b[0m\n\u001b[1;32m   2778\u001b[0m           'the model on a batch of data.')\n",
            "\u001b[0;31mValueError\u001b[0m: This model has not yet been built. Build the model first by calling `build()` or by calling the model on a batch of data."
          ]
        }
      ],
      "source": [
        "model.summary()"
      ]
    },
    {
      "cell_type": "code",
      "execution_count": null,
      "metadata": {
        "colab": {
          "base_uri": "https://localhost:8080/"
        },
        "id": "zs7RJXeUbWMq",
        "outputId": "2fdd65d2-5d37-4f01-a79b-f8bedb6e51e3"
      },
      "outputs": [
        {
          "output_type": "stream",
          "name": "stdout",
          "text": [
            "Epoch 1/60\n",
            "5/5 [==============================] - 16s 336ms/step - loss: 0.0370 - accuracy: 0.0433\n",
            "Epoch 2/60\n",
            "5/5 [==============================] - 1s 215ms/step - loss: 0.0370 - accuracy: 0.0409\n",
            "Epoch 3/60\n",
            "5/5 [==============================] - 1s 216ms/step - loss: 0.0370 - accuracy: 0.0433\n",
            "Epoch 4/60\n",
            "5/5 [==============================] - 1s 214ms/step - loss: 0.0370 - accuracy: 0.0457\n",
            "Epoch 5/60\n",
            "5/5 [==============================] - 1s 216ms/step - loss: 0.0370 - accuracy: 0.0288\n",
            "Epoch 6/60\n",
            "5/5 [==============================] - 1s 217ms/step - loss: 0.0370 - accuracy: 0.0481\n",
            "Epoch 7/60\n",
            "5/5 [==============================] - 1s 216ms/step - loss: 0.0370 - accuracy: 0.0409\n",
            "Epoch 8/60\n",
            "5/5 [==============================] - 1s 215ms/step - loss: 0.0370 - accuracy: 0.0409\n",
            "Epoch 9/60\n",
            "5/5 [==============================] - 1s 220ms/step - loss: 0.0370 - accuracy: 0.0457\n",
            "Epoch 10/60\n",
            "5/5 [==============================] - 1s 217ms/step - loss: 0.0370 - accuracy: 0.0409\n",
            "Epoch 11/60\n",
            "5/5 [==============================] - 1s 220ms/step - loss: 0.0370 - accuracy: 0.0505\n",
            "Epoch 12/60\n",
            "5/5 [==============================] - 1s 220ms/step - loss: 0.0370 - accuracy: 0.0553\n",
            "Epoch 13/60\n",
            "5/5 [==============================] - 1s 219ms/step - loss: 0.0370 - accuracy: 0.0481\n",
            "Epoch 14/60\n",
            "5/5 [==============================] - 1s 219ms/step - loss: 0.0370 - accuracy: 0.0433\n",
            "Epoch 15/60\n",
            "5/5 [==============================] - 1s 221ms/step - loss: 0.0370 - accuracy: 0.0505\n",
            "Epoch 16/60\n",
            "5/5 [==============================] - 1s 219ms/step - loss: 0.0370 - accuracy: 0.0553\n",
            "Epoch 17/60\n",
            "5/5 [==============================] - 1s 220ms/step - loss: 0.0370 - accuracy: 0.0433\n",
            "Epoch 18/60\n",
            "5/5 [==============================] - 1s 219ms/step - loss: 0.0370 - accuracy: 0.0385\n",
            "Epoch 19/60\n",
            "5/5 [==============================] - 1s 220ms/step - loss: 0.0370 - accuracy: 0.0409\n",
            "Epoch 20/60\n",
            "5/5 [==============================] - 1s 219ms/step - loss: 0.0370 - accuracy: 0.0457\n",
            "Epoch 21/60\n",
            "5/5 [==============================] - 1s 222ms/step - loss: 0.0370 - accuracy: 0.0553\n",
            "Epoch 22/60\n",
            "5/5 [==============================] - 1s 221ms/step - loss: 0.0370 - accuracy: 0.0553\n",
            "Epoch 23/60\n",
            "5/5 [==============================] - 1s 220ms/step - loss: 0.0370 - accuracy: 0.0457\n",
            "Epoch 24/60\n",
            "5/5 [==============================] - 1s 221ms/step - loss: 0.0370 - accuracy: 0.0433\n",
            "Epoch 25/60\n",
            "5/5 [==============================] - 1s 220ms/step - loss: 0.0370 - accuracy: 0.0481\n",
            "Epoch 26/60\n",
            "5/5 [==============================] - 1s 220ms/step - loss: 0.0370 - accuracy: 0.0409\n",
            "Epoch 27/60\n",
            "5/5 [==============================] - 1s 218ms/step - loss: 0.0370 - accuracy: 0.0721\n",
            "Epoch 28/60\n",
            "5/5 [==============================] - 1s 221ms/step - loss: 0.0370 - accuracy: 0.0577\n",
            "Epoch 29/60\n",
            "5/5 [==============================] - 1s 223ms/step - loss: 0.0370 - accuracy: 0.0553\n",
            "Epoch 30/60\n",
            "5/5 [==============================] - 1s 221ms/step - loss: 0.0370 - accuracy: 0.0553\n",
            "Epoch 31/60\n",
            "5/5 [==============================] - 1s 221ms/step - loss: 0.0370 - accuracy: 0.0505\n",
            "Epoch 32/60\n",
            "5/5 [==============================] - 1s 225ms/step - loss: 0.0370 - accuracy: 0.0625\n",
            "Epoch 33/60\n",
            "5/5 [==============================] - 1s 223ms/step - loss: 0.0370 - accuracy: 0.0505\n",
            "Epoch 34/60\n",
            "5/5 [==============================] - 1s 221ms/step - loss: 0.0370 - accuracy: 0.0529\n",
            "Epoch 35/60\n",
            "5/5 [==============================] - 1s 223ms/step - loss: 0.0370 - accuracy: 0.0457\n",
            "Epoch 36/60\n",
            "5/5 [==============================] - 1s 223ms/step - loss: 0.0370 - accuracy: 0.0601\n",
            "Epoch 37/60\n",
            "5/5 [==============================] - 1s 224ms/step - loss: 0.0370 - accuracy: 0.0649\n",
            "Epoch 38/60\n",
            "5/5 [==============================] - 1s 224ms/step - loss: 0.0370 - accuracy: 0.0649\n",
            "Epoch 39/60\n",
            "5/5 [==============================] - 1s 223ms/step - loss: 0.0370 - accuracy: 0.0625\n",
            "Epoch 40/60\n",
            "5/5 [==============================] - 1s 225ms/step - loss: 0.0370 - accuracy: 0.0577\n",
            "Epoch 41/60\n",
            "5/5 [==============================] - 1s 224ms/step - loss: 0.0370 - accuracy: 0.0529\n",
            "Epoch 42/60\n",
            "5/5 [==============================] - 1s 225ms/step - loss: 0.0370 - accuracy: 0.0601\n",
            "Epoch 43/60\n",
            "5/5 [==============================] - 1s 225ms/step - loss: 0.0369 - accuracy: 0.0625\n",
            "Epoch 44/60\n",
            "5/5 [==============================] - 1s 225ms/step - loss: 0.0369 - accuracy: 0.0553\n",
            "Epoch 45/60\n",
            "5/5 [==============================] - 1s 226ms/step - loss: 0.0369 - accuracy: 0.0553\n",
            "Epoch 46/60\n",
            "5/5 [==============================] - 1s 224ms/step - loss: 0.0370 - accuracy: 0.0553\n",
            "Epoch 47/60\n",
            "5/5 [==============================] - 1s 224ms/step - loss: 0.0369 - accuracy: 0.0601\n",
            "Epoch 48/60\n",
            "5/5 [==============================] - 1s 226ms/step - loss: 0.0370 - accuracy: 0.0649\n",
            "Epoch 49/60\n",
            "5/5 [==============================] - 1s 227ms/step - loss: 0.0369 - accuracy: 0.0745\n",
            "Epoch 50/60\n",
            "5/5 [==============================] - 1s 226ms/step - loss: 0.0369 - accuracy: 0.0625\n",
            "Epoch 51/60\n",
            "5/5 [==============================] - 1s 228ms/step - loss: 0.0369 - accuracy: 0.0457\n",
            "Epoch 52/60\n",
            "5/5 [==============================] - 1s 228ms/step - loss: 0.0369 - accuracy: 0.0601\n",
            "Epoch 53/60\n",
            "5/5 [==============================] - 1s 225ms/step - loss: 0.0369 - accuracy: 0.0553\n",
            "Epoch 54/60\n",
            "5/5 [==============================] - 1s 228ms/step - loss: 0.0369 - accuracy: 0.0553\n",
            "Epoch 55/60\n",
            "5/5 [==============================] - 1s 227ms/step - loss: 0.0369 - accuracy: 0.0625\n",
            "Epoch 56/60\n",
            "5/5 [==============================] - 1s 228ms/step - loss: 0.0369 - accuracy: 0.0625\n",
            "Epoch 57/60\n",
            "5/5 [==============================] - 1s 227ms/step - loss: 0.0369 - accuracy: 0.0505\n",
            "Epoch 58/60\n",
            "5/5 [==============================] - 1s 232ms/step - loss: 0.0369 - accuracy: 0.0577\n",
            "Epoch 59/60\n",
            "5/5 [==============================] - 1s 228ms/step - loss: 0.0369 - accuracy: 0.0529\n",
            "Epoch 60/60\n",
            "5/5 [==============================] - 1s 227ms/step - loss: 0.0369 - accuracy: 0.0505\n"
          ]
        },
        {
          "output_type": "execute_result",
          "data": {
            "text/plain": [
              "<keras.callbacks.History at 0x7f85c0256a50>"
            ]
          },
          "metadata": {},
          "execution_count": 31
        }
      ],
      "source": [
        "model.fit(x_train, y_train, batch_size=100, epochs=60)"
      ]
    },
    {
      "cell_type": "code",
      "source": [
        "from tensorflow.keras.applications import ResNet50V2"
      ],
      "metadata": {
        "id": "XLhwIq2iX28r"
      },
      "execution_count": null,
      "outputs": []
    },
    {
      "cell_type": "code",
      "source": [
        "resnet = ResNet50V2(include_top = False, pooling = \"avg\")"
      ],
      "metadata": {
        "colab": {
          "base_uri": "https://localhost:8080/"
        },
        "id": "IjXcsN6eX4vL",
        "outputId": "a0c81e7e-20eb-47ce-b0d5-bed1f77a35c1"
      },
      "execution_count": null,
      "outputs": [
        {
          "output_type": "stream",
          "name": "stdout",
          "text": [
            "Downloading data from https://storage.googleapis.com/tensorflow/keras-applications/resnet/resnet50v2_weights_tf_dim_ordering_tf_kernels_notop.h5\n",
            "94674944/94668760 [==============================] - 1s 0us/step\n",
            "94683136/94668760 [==============================] - 1s 0us/step\n"
          ]
        }
      ]
    },
    {
      "cell_type": "code",
      "source": [
        "#We just want to use ResNet50v2's params.\n",
        "resnet.trainable = False"
      ],
      "metadata": {
        "id": "9boemzuxX7RE"
      },
      "execution_count": null,
      "outputs": []
    },
    {
      "cell_type": "code",
      "source": [
        "model = Sequential()\n",
        "model.add(resnet)\n",
        "model.add(Dense(26, activation = 'softmax'))"
      ],
      "metadata": {
        "id": "Mjl-5ArEX9sZ"
      },
      "execution_count": null,
      "outputs": []
    },
    {
      "cell_type": "code",
      "source": [
        "model.compile(loss='mse', \n",
        "              optimizer='adam', \n",
        "              metrics=['accuracy'])"
      ],
      "metadata": {
        "id": "Boz2hxVmYCdv"
      },
      "execution_count": null,
      "outputs": []
    },
    {
      "cell_type": "code",
      "source": [
        "model.summary()"
      ],
      "metadata": {
        "colab": {
          "base_uri": "https://localhost:8080/"
        },
        "id": "mG2TnVdkYJhw",
        "outputId": "a262933f-d652-4ff8-a7bb-88ad41805ccd"
      },
      "execution_count": null,
      "outputs": [
        {
          "output_type": "stream",
          "name": "stdout",
          "text": [
            "Model: \"sequential_2\"\n",
            "_________________________________________________________________\n",
            " Layer (type)                Output Shape              Param #   \n",
            "=================================================================\n",
            " resnet50v2 (Functional)     (None, 2048)              23564800  \n",
            "                                                                 \n",
            " dense_4 (Dense)             (None, 26)                53274     \n",
            "                                                                 \n",
            "=================================================================\n",
            "Total params: 23,618,074\n",
            "Trainable params: 53,274\n",
            "Non-trainable params: 23,564,800\n",
            "_________________________________________________________________\n"
          ]
        }
      ]
    },
    {
      "cell_type": "code",
      "source": [
        "model.fit(x_train, y_train, batch_size=100, epochs = 60)"
      ],
      "metadata": {
        "colab": {
          "base_uri": "https://localhost:8080/"
        },
        "id": "aQWJ_YmLYL0r",
        "outputId": "9e7f1755-6925-411d-a2d7-e935d5b8f5a8"
      },
      "execution_count": null,
      "outputs": [
        {
          "output_type": "stream",
          "name": "stdout",
          "text": [
            "Epoch 1/60\n",
            "5/5 [==============================] - 1s 225ms/step - loss: 0.0167 - accuracy: 0.7548\n",
            "Epoch 2/60\n",
            "5/5 [==============================] - 1s 225ms/step - loss: 0.0154 - accuracy: 0.7692\n",
            "Epoch 3/60\n",
            "5/5 [==============================] - 1s 229ms/step - loss: 0.0145 - accuracy: 0.7909\n",
            "Epoch 4/60\n",
            "5/5 [==============================] - 1s 228ms/step - loss: 0.0135 - accuracy: 0.7957\n",
            "Epoch 5/60\n",
            "5/5 [==============================] - 1s 226ms/step - loss: 0.0128 - accuracy: 0.8173\n",
            "Epoch 6/60\n",
            "5/5 [==============================] - 1s 225ms/step - loss: 0.0120 - accuracy: 0.8269\n",
            "Epoch 7/60\n",
            "5/5 [==============================] - 1s 227ms/step - loss: 0.0112 - accuracy: 0.8462\n",
            "Epoch 8/60\n",
            "5/5 [==============================] - 1s 227ms/step - loss: 0.0106 - accuracy: 0.8534\n",
            "Epoch 9/60\n",
            "5/5 [==============================] - 1s 228ms/step - loss: 0.0100 - accuracy: 0.8558\n",
            "Epoch 10/60\n",
            "5/5 [==============================] - 1s 225ms/step - loss: 0.0094 - accuracy: 0.8606\n",
            "Epoch 11/60\n",
            "5/5 [==============================] - 1s 228ms/step - loss: 0.0089 - accuracy: 0.8702\n",
            "Epoch 12/60\n",
            "5/5 [==============================] - 1s 226ms/step - loss: 0.0085 - accuracy: 0.8750\n",
            "Epoch 13/60\n",
            "5/5 [==============================] - 1s 225ms/step - loss: 0.0080 - accuracy: 0.8822\n",
            "Epoch 14/60\n",
            "5/5 [==============================] - 1s 227ms/step - loss: 0.0076 - accuracy: 0.8870\n",
            "Epoch 15/60\n",
            "5/5 [==============================] - 1s 226ms/step - loss: 0.0073 - accuracy: 0.8918\n",
            "Epoch 16/60\n",
            "5/5 [==============================] - 1s 226ms/step - loss: 0.0070 - accuracy: 0.9038\n",
            "Epoch 17/60\n",
            "5/5 [==============================] - 1s 228ms/step - loss: 0.0067 - accuracy: 0.9087\n",
            "Epoch 18/60\n",
            "5/5 [==============================] - 1s 226ms/step - loss: 0.0064 - accuracy: 0.9087\n",
            "Epoch 19/60\n",
            "5/5 [==============================] - 1s 227ms/step - loss: 0.0060 - accuracy: 0.9183\n",
            "Epoch 20/60\n",
            "5/5 [==============================] - 1s 226ms/step - loss: 0.0058 - accuracy: 0.9159\n",
            "Epoch 21/60\n",
            "5/5 [==============================] - 1s 228ms/step - loss: 0.0055 - accuracy: 0.9279\n",
            "Epoch 22/60\n",
            "5/5 [==============================] - 1s 227ms/step - loss: 0.0052 - accuracy: 0.9255\n",
            "Epoch 23/60\n",
            "5/5 [==============================] - 1s 227ms/step - loss: 0.0050 - accuracy: 0.9351\n",
            "Epoch 24/60\n",
            "5/5 [==============================] - 1s 227ms/step - loss: 0.0048 - accuracy: 0.9375\n",
            "Epoch 25/60\n",
            "5/5 [==============================] - 1s 228ms/step - loss: 0.0046 - accuracy: 0.9399\n",
            "Epoch 26/60\n",
            "5/5 [==============================] - 1s 228ms/step - loss: 0.0043 - accuracy: 0.9447\n",
            "Epoch 27/60\n",
            "5/5 [==============================] - 1s 225ms/step - loss: 0.0041 - accuracy: 0.9495\n",
            "Epoch 28/60\n",
            "5/5 [==============================] - 1s 226ms/step - loss: 0.0039 - accuracy: 0.9495\n",
            "Epoch 29/60\n",
            "5/5 [==============================] - 1s 227ms/step - loss: 0.0038 - accuracy: 0.9519\n",
            "Epoch 30/60\n",
            "5/5 [==============================] - 1s 227ms/step - loss: 0.0036 - accuracy: 0.9519\n",
            "Epoch 31/60\n",
            "5/5 [==============================] - 1s 226ms/step - loss: 0.0034 - accuracy: 0.9567\n",
            "Epoch 32/60\n",
            "5/5 [==============================] - 1s 227ms/step - loss: 0.0033 - accuracy: 0.9591\n",
            "Epoch 33/60\n",
            "5/5 [==============================] - 1s 227ms/step - loss: 0.0031 - accuracy: 0.9591\n",
            "Epoch 34/60\n",
            "5/5 [==============================] - 1s 227ms/step - loss: 0.0030 - accuracy: 0.9591\n",
            "Epoch 35/60\n",
            "5/5 [==============================] - 1s 227ms/step - loss: 0.0029 - accuracy: 0.9591\n",
            "Epoch 36/60\n",
            "5/5 [==============================] - 1s 228ms/step - loss: 0.0028 - accuracy: 0.9615\n",
            "Epoch 37/60\n",
            "5/5 [==============================] - 1s 226ms/step - loss: 0.0027 - accuracy: 0.9615\n",
            "Epoch 38/60\n",
            "5/5 [==============================] - 1s 230ms/step - loss: 0.0026 - accuracy: 0.9615\n",
            "Epoch 39/60\n",
            "5/5 [==============================] - 1s 226ms/step - loss: 0.0025 - accuracy: 0.9639\n",
            "Epoch 40/60\n",
            "5/5 [==============================] - 1s 230ms/step - loss: 0.0024 - accuracy: 0.9663\n",
            "Epoch 41/60\n",
            "5/5 [==============================] - 1s 228ms/step - loss: 0.0024 - accuracy: 0.9663\n",
            "Epoch 42/60\n",
            "5/5 [==============================] - 1s 227ms/step - loss: 0.0023 - accuracy: 0.9663\n",
            "Epoch 43/60\n",
            "5/5 [==============================] - 1s 228ms/step - loss: 0.0021 - accuracy: 0.9688\n",
            "Epoch 44/60\n",
            "5/5 [==============================] - 1s 227ms/step - loss: 0.0020 - accuracy: 0.9736\n",
            "Epoch 45/60\n",
            "5/5 [==============================] - 1s 227ms/step - loss: 0.0019 - accuracy: 0.9784\n",
            "Epoch 46/60\n",
            "5/5 [==============================] - 1s 228ms/step - loss: 0.0019 - accuracy: 0.9784\n",
            "Epoch 47/60\n",
            "5/5 [==============================] - 1s 229ms/step - loss: 0.0018 - accuracy: 0.9784\n",
            "Epoch 48/60\n",
            "5/5 [==============================] - 1s 228ms/step - loss: 0.0017 - accuracy: 0.9784\n",
            "Epoch 49/60\n",
            "5/5 [==============================] - 1s 227ms/step - loss: 0.0017 - accuracy: 0.9784\n",
            "Epoch 50/60\n",
            "5/5 [==============================] - 1s 228ms/step - loss: 0.0016 - accuracy: 0.9784\n",
            "Epoch 51/60\n",
            "5/5 [==============================] - 1s 230ms/step - loss: 0.0015 - accuracy: 0.9808\n",
            "Epoch 52/60\n",
            "5/5 [==============================] - 1s 230ms/step - loss: 0.0015 - accuracy: 0.9808\n",
            "Epoch 53/60\n",
            "5/5 [==============================] - 1s 229ms/step - loss: 0.0015 - accuracy: 0.9808\n",
            "Epoch 54/60\n",
            "5/5 [==============================] - 1s 228ms/step - loss: 0.0014 - accuracy: 0.9856\n",
            "Epoch 55/60\n",
            "5/5 [==============================] - 1s 231ms/step - loss: 0.0013 - accuracy: 0.9856\n",
            "Epoch 56/60\n",
            "5/5 [==============================] - 1s 230ms/step - loss: 0.0013 - accuracy: 0.9856\n",
            "Epoch 57/60\n",
            "5/5 [==============================] - 1s 231ms/step - loss: 0.0012 - accuracy: 0.9856\n",
            "Epoch 58/60\n",
            "5/5 [==============================] - 1s 228ms/step - loss: 0.0012 - accuracy: 0.9856\n",
            "Epoch 59/60\n",
            "5/5 [==============================] - 1s 227ms/step - loss: 0.0011 - accuracy: 0.9856\n",
            "Epoch 60/60\n",
            "5/5 [==============================] - 1s 227ms/step - loss: 0.0011 - accuracy: 0.9880\n"
          ]
        },
        {
          "output_type": "execute_result",
          "data": {
            "text/plain": [
              "<keras.callbacks.History at 0x7f852633ffd0>"
            ]
          },
          "metadata": {},
          "execution_count": 39
        }
      ]
    },
    {
      "cell_type": "code",
      "execution_count": null,
      "metadata": {
        "colab": {
          "base_uri": "https://localhost:8080/"
        },
        "id": "9IVvFuQyMlUq",
        "outputId": "665aebc0-c35e-4f17-d281-9541e3e7bc06"
      },
      "outputs": [
        {
          "output_type": "stream",
          "name": "stdout",
          "text": [
            "Looking in indexes: https://pypi.org/simple, https://us-python.pkg.dev/colab-wheels/public/simple/\n",
            "Collecting gradio\n",
            "  Downloading gradio-3.0.17-py3-none-any.whl (5.1 MB)\n",
            "\u001b[K     |████████████████████████████████| 5.1 MB 5.2 MB/s \n",
            "\u001b[?25hRequirement already satisfied: requests in /usr/local/lib/python3.7/dist-packages (from gradio) (2.23.0)\n",
            "Collecting pydub\n",
            "  Downloading pydub-0.25.1-py2.py3-none-any.whl (32 kB)\n",
            "Collecting aiohttp\n",
            "  Downloading aiohttp-3.8.1-cp37-cp37m-manylinux_2_5_x86_64.manylinux1_x86_64.manylinux_2_12_x86_64.manylinux2010_x86_64.whl (1.1 MB)\n",
            "\u001b[K     |████████████████████████████████| 1.1 MB 56.7 MB/s \n",
            "\u001b[?25hCollecting fastapi\n",
            "  Downloading fastapi-0.78.0-py3-none-any.whl (54 kB)\n",
            "\u001b[K     |████████████████████████████████| 54 kB 3.6 MB/s \n",
            "\u001b[?25hCollecting pycryptodome\n",
            "  Downloading pycryptodome-3.14.1-cp35-abi3-manylinux2010_x86_64.whl (2.0 MB)\n",
            "\u001b[K     |████████████████████████████████| 2.0 MB 60.5 MB/s \n",
            "\u001b[?25hCollecting uvicorn\n",
            "  Downloading uvicorn-0.17.6-py3-none-any.whl (53 kB)\n",
            "\u001b[K     |████████████████████████████████| 53 kB 2.8 MB/s \n",
            "\u001b[?25hRequirement already satisfied: Jinja2 in /usr/local/lib/python3.7/dist-packages (from gradio) (2.11.3)\n",
            "Requirement already satisfied: matplotlib in /usr/local/lib/python3.7/dist-packages (from gradio) (3.2.2)\n",
            "Collecting orjson\n",
            "  Downloading orjson-3.7.2-cp37-cp37m-manylinux_2_17_x86_64.manylinux2014_x86_64.whl (256 kB)\n",
            "\u001b[K     |████████████████████████████████| 256 kB 72.0 MB/s \n",
            "\u001b[?25hCollecting paramiko\n",
            "  Downloading paramiko-2.11.0-py2.py3-none-any.whl (212 kB)\n",
            "\u001b[K     |████████████████████████████████| 212 kB 76.0 MB/s \n",
            "\u001b[?25hCollecting markdown-it-py[linkify,plugins]\n",
            "  Downloading markdown_it_py-2.1.0-py3-none-any.whl (84 kB)\n",
            "\u001b[K     |████████████████████████████████| 84 kB 4.7 MB/s \n",
            "\u001b[?25hRequirement already satisfied: pillow in /usr/local/lib/python3.7/dist-packages (from gradio) (7.1.2)\n",
            "Requirement already satisfied: numpy in /usr/local/lib/python3.7/dist-packages (from gradio) (1.21.6)\n",
            "Collecting python-multipart\n",
            "  Downloading python-multipart-0.0.5.tar.gz (32 kB)\n",
            "Collecting ffmpy\n",
            "  Downloading ffmpy-0.3.0.tar.gz (4.8 kB)\n",
            "Collecting analytics-python\n",
            "  Downloading analytics_python-1.4.0-py2.py3-none-any.whl (15 kB)\n",
            "Requirement already satisfied: pandas in /usr/local/lib/python3.7/dist-packages (from gradio) (1.3.5)\n",
            "Collecting async-timeout<5.0,>=4.0.0a3\n",
            "  Downloading async_timeout-4.0.2-py3-none-any.whl (5.8 kB)\n",
            "Collecting multidict<7.0,>=4.5\n",
            "  Downloading multidict-6.0.2-cp37-cp37m-manylinux_2_17_x86_64.manylinux2014_x86_64.whl (94 kB)\n",
            "\u001b[K     |████████████████████████████████| 94 kB 4.4 MB/s \n",
            "\u001b[?25hCollecting frozenlist>=1.1.1\n",
            "  Downloading frozenlist-1.3.0-cp37-cp37m-manylinux_2_5_x86_64.manylinux1_x86_64.manylinux_2_17_x86_64.manylinux2014_x86_64.whl (144 kB)\n",
            "\u001b[K     |████████████████████████████████| 144 kB 72.4 MB/s \n",
            "\u001b[?25hRequirement already satisfied: typing-extensions>=3.7.4 in /usr/local/lib/python3.7/dist-packages (from aiohttp->gradio) (4.2.0)\n",
            "Collecting yarl<2.0,>=1.0\n",
            "  Downloading yarl-1.7.2-cp37-cp37m-manylinux_2_5_x86_64.manylinux1_x86_64.manylinux_2_12_x86_64.manylinux2010_x86_64.whl (271 kB)\n",
            "\u001b[K     |████████████████████████████████| 271 kB 75.4 MB/s \n",
            "\u001b[?25hRequirement already satisfied: attrs>=17.3.0 in /usr/local/lib/python3.7/dist-packages (from aiohttp->gradio) (21.4.0)\n",
            "Requirement already satisfied: charset-normalizer<3.0,>=2.0 in /usr/local/lib/python3.7/dist-packages (from aiohttp->gradio) (2.0.12)\n",
            "Collecting asynctest==0.13.0\n",
            "  Downloading asynctest-0.13.0-py3-none-any.whl (26 kB)\n",
            "Collecting aiosignal>=1.1.2\n",
            "  Downloading aiosignal-1.2.0-py3-none-any.whl (8.2 kB)\n",
            "Requirement already satisfied: idna>=2.0 in /usr/local/lib/python3.7/dist-packages (from yarl<2.0,>=1.0->aiohttp->gradio) (2.10)\n",
            "Collecting monotonic>=1.5\n",
            "  Downloading monotonic-1.6-py2.py3-none-any.whl (8.2 kB)\n",
            "Collecting backoff==1.10.0\n",
            "  Downloading backoff-1.10.0-py2.py3-none-any.whl (31 kB)\n",
            "Requirement already satisfied: python-dateutil>2.1 in /usr/local/lib/python3.7/dist-packages (from analytics-python->gradio) (2.8.2)\n",
            "Requirement already satisfied: six>=1.5 in /usr/local/lib/python3.7/dist-packages (from analytics-python->gradio) (1.15.0)\n",
            "Requirement already satisfied: urllib3!=1.25.0,!=1.25.1,<1.26,>=1.21.1 in /usr/local/lib/python3.7/dist-packages (from requests->gradio) (1.24.3)\n",
            "Requirement already satisfied: certifi>=2017.4.17 in /usr/local/lib/python3.7/dist-packages (from requests->gradio) (2022.5.18.1)\n",
            "Requirement already satisfied: chardet<4,>=3.0.2 in /usr/local/lib/python3.7/dist-packages (from requests->gradio) (3.0.4)\n",
            "Collecting pydantic!=1.7,!=1.7.1,!=1.7.2,!=1.7.3,!=1.8,!=1.8.1,<2.0.0,>=1.6.2\n",
            "  Downloading pydantic-1.9.1-cp37-cp37m-manylinux_2_17_x86_64.manylinux2014_x86_64.whl (11.1 MB)\n",
            "\u001b[K     |████████████████████████████████| 11.1 MB 52.0 MB/s \n",
            "\u001b[?25hCollecting starlette==0.19.1\n",
            "  Downloading starlette-0.19.1-py3-none-any.whl (63 kB)\n",
            "\u001b[K     |████████████████████████████████| 63 kB 2.0 MB/s \n",
            "\u001b[?25hCollecting anyio<5,>=3.4.0\n",
            "  Downloading anyio-3.6.1-py3-none-any.whl (80 kB)\n",
            "\u001b[K     |████████████████████████████████| 80 kB 9.8 MB/s \n",
            "\u001b[?25hCollecting sniffio>=1.1\n",
            "  Downloading sniffio-1.2.0-py3-none-any.whl (10 kB)\n",
            "Requirement already satisfied: MarkupSafe>=0.23 in /usr/local/lib/python3.7/dist-packages (from Jinja2->gradio) (2.0.1)\n",
            "Collecting mdurl~=0.1\n",
            "  Downloading mdurl-0.1.1-py3-none-any.whl (10 kB)\n",
            "Collecting linkify-it-py~=1.0\n",
            "  Downloading linkify_it_py-1.0.3-py3-none-any.whl (19 kB)\n",
            "Collecting mdit-py-plugins\n",
            "  Downloading mdit_py_plugins-0.3.0-py3-none-any.whl (43 kB)\n",
            "\u001b[K     |████████████████████████████████| 43 kB 2.6 MB/s \n",
            "\u001b[?25hCollecting uc-micro-py\n",
            "  Downloading uc_micro_py-1.0.1-py3-none-any.whl (6.2 kB)\n",
            "Requirement already satisfied: pyparsing!=2.0.4,!=2.1.2,!=2.1.6,>=2.0.1 in /usr/local/lib/python3.7/dist-packages (from matplotlib->gradio) (3.0.9)\n",
            "Requirement already satisfied: kiwisolver>=1.0.1 in /usr/local/lib/python3.7/dist-packages (from matplotlib->gradio) (1.4.2)\n",
            "Requirement already satisfied: cycler>=0.10 in /usr/local/lib/python3.7/dist-packages (from matplotlib->gradio) (0.11.0)\n",
            "Requirement already satisfied: pytz>=2017.3 in /usr/local/lib/python3.7/dist-packages (from pandas->gradio) (2022.1)\n",
            "Collecting pynacl>=1.0.1\n",
            "  Downloading PyNaCl-1.5.0-cp36-abi3-manylinux_2_17_x86_64.manylinux2014_x86_64.manylinux_2_24_x86_64.whl (856 kB)\n",
            "\u001b[K     |████████████████████████████████| 856 kB 59.4 MB/s \n",
            "\u001b[?25hCollecting bcrypt>=3.1.3\n",
            "  Downloading bcrypt-3.2.2-cp36-abi3-manylinux_2_17_x86_64.manylinux2014_x86_64.manylinux_2_24_x86_64.whl (62 kB)\n",
            "\u001b[K     |████████████████████████████████| 62 kB 1.1 MB/s \n",
            "\u001b[?25hCollecting cryptography>=2.5\n",
            "  Downloading cryptography-37.0.2-cp36-abi3-manylinux_2_24_x86_64.whl (4.0 MB)\n",
            "\u001b[K     |████████████████████████████████| 4.0 MB 53.3 MB/s \n",
            "\u001b[?25hRequirement already satisfied: cffi>=1.1 in /usr/local/lib/python3.7/dist-packages (from bcrypt>=3.1.3->paramiko->gradio) (1.15.0)\n",
            "Requirement already satisfied: pycparser in /usr/local/lib/python3.7/dist-packages (from cffi>=1.1->bcrypt>=3.1.3->paramiko->gradio) (2.21)\n",
            "Requirement already satisfied: click>=7.0 in /usr/local/lib/python3.7/dist-packages (from uvicorn->gradio) (7.1.2)\n",
            "Collecting asgiref>=3.4.0\n",
            "  Downloading asgiref-3.5.2-py3-none-any.whl (22 kB)\n",
            "Collecting h11>=0.8\n",
            "  Downloading h11-0.13.0-py3-none-any.whl (58 kB)\n",
            "\u001b[K     |████████████████████████████████| 58 kB 7.6 MB/s \n",
            "\u001b[?25hBuilding wheels for collected packages: ffmpy, python-multipart\n",
            "  Building wheel for ffmpy (setup.py) ... \u001b[?25l\u001b[?25hdone\n",
            "  Created wheel for ffmpy: filename=ffmpy-0.3.0-py3-none-any.whl size=4712 sha256=9ef4c77addff8ecee76621e0f114d9b052fde10809d248f8d7af5ebcf63bdc38\n",
            "  Stored in directory: /root/.cache/pip/wheels/13/e4/6c/e8059816e86796a597c6e6b0d4c880630f51a1fcfa0befd5e6\n",
            "  Building wheel for python-multipart (setup.py) ... \u001b[?25l\u001b[?25hdone\n",
            "  Created wheel for python-multipart: filename=python_multipart-0.0.5-py3-none-any.whl size=31678 sha256=c62b59a59e24eece387121586426e55098ee817d8c0b5538636b7cbe7ff29a02\n",
            "  Stored in directory: /root/.cache/pip/wheels/2c/41/7c/bfd1c180534ffdcc0972f78c5758f89881602175d48a8bcd2c\n",
            "Successfully built ffmpy python-multipart\n",
            "Installing collected packages: sniffio, mdurl, uc-micro-py, multidict, markdown-it-py, frozenlist, anyio, yarl, starlette, pynacl, pydantic, monotonic, mdit-py-plugins, linkify-it-py, h11, cryptography, bcrypt, backoff, asynctest, async-timeout, asgiref, aiosignal, uvicorn, python-multipart, pydub, pycryptodome, paramiko, orjson, ffmpy, fastapi, analytics-python, aiohttp, gradio\n",
            "Successfully installed aiohttp-3.8.1 aiosignal-1.2.0 analytics-python-1.4.0 anyio-3.6.1 asgiref-3.5.2 async-timeout-4.0.2 asynctest-0.13.0 backoff-1.10.0 bcrypt-3.2.2 cryptography-37.0.2 fastapi-0.78.0 ffmpy-0.3.0 frozenlist-1.3.0 gradio-3.0.17 h11-0.13.0 linkify-it-py-1.0.3 markdown-it-py-2.1.0 mdit-py-plugins-0.3.0 mdurl-0.1.1 monotonic-1.6 multidict-6.0.2 orjson-3.7.2 paramiko-2.11.0 pycryptodome-3.14.1 pydantic-1.9.1 pydub-0.25.1 pynacl-1.5.0 python-multipart-0.0.5 sniffio-1.2.0 starlette-0.19.1 uc-micro-py-1.0.1 uvicorn-0.17.6 yarl-1.7.2\n"
          ]
        }
      ],
      "source": [
        "!pip install gradio"
      ]
    },
    {
      "cell_type": "code",
      "execution_count": null,
      "metadata": {
        "id": "gSgtclMgM37O"
      },
      "outputs": [],
      "source": [
        "import gradio as gr"
      ]
    },
    {
      "cell_type": "code",
      "execution_count": null,
      "metadata": {
        "id": "YAc5laDsM6Wn"
      },
      "outputs": [],
      "source": [
        "from tensorflow.keras.applications.resnet_v2 import preprocess_input"
      ]
    },
    {
      "cell_type": "code",
      "execution_count": null,
      "metadata": {
        "id": "8kwopKgYM-5M"
      },
      "outputs": [],
      "source": [
        "labels = ['A','B','C','D','E','F','G','H','I','J','K','L','M','N','O','P','Q','R','S','T','U','V','W','X','Y','Z']"
      ]
    },
    {
      "cell_type": "code",
      "execution_count": null,
      "metadata": {
        "id": "8C84nIMDNdsc"
      },
      "outputs": [],
      "source": [
        "def classify_image(inp):\n",
        "  inp = inp.reshape((-1, 224, 224, 3))\n",
        "  inp = preprocess_input(inp)\n",
        "  p = model.predict(inp).flatten()\n",
        "  return {labels[i]: float(p[i]) for i in range (26)}"
      ]
    },
    {
      "cell_type": "code",
      "execution_count": null,
      "metadata": {
        "colab": {
          "base_uri": "https://localhost:8080/"
        },
        "id": "qRmIWVVDO9dq",
        "outputId": "ba20a1bd-4685-4938-9c97-aa19e70bfd20"
      },
      "outputs": [
        {
          "output_type": "stream",
          "name": "stderr",
          "text": [
            "/usr/local/lib/python3.7/dist-packages/gradio/deprecation.py:40: UserWarning: `optional` parameter is deprecated, and it has no effect\n",
            "  warnings.warn(value)\n",
            "/usr/local/lib/python3.7/dist-packages/gradio/deprecation.py:40: UserWarning: The 'type' parameter has been deprecated. Use the Number component instead.\n",
            "  warnings.warn(value)\n"
          ]
        }
      ],
      "source": [
        "image = gr.inputs.Image(shape=(224, 224), label=\"Image of Letter\")\n",
        "label = gr.outputs.Label(label=\"AI Result\")"
      ]
    },
    {
      "cell_type": "code",
      "execution_count": null,
      "metadata": {
        "colab": {
          "base_uri": "https://localhost:8080/",
          "height": 958
        },
        "id": "-Fe_DH6CPDRT",
        "outputId": "8ca7baf0-d1bd-4c8f-8410-acadfe57f913"
      },
      "outputs": [
        {
          "output_type": "stream",
          "name": "stdout",
          "text": [
            "Colab notebook detected. This cell will run indefinitely so that you can see errors and logs. To turn off, set debug=False in launch().\n",
            "Running on public URL: https://55285.gradio.app\n",
            "\n",
            "This share link expires in 72 hours. For free permanent hosting, check out Spaces (https://huggingface.co/spaces)\n"
          ]
        },
        {
          "output_type": "display_data",
          "data": {
            "text/plain": [
              "<IPython.core.display.HTML object>"
            ],
            "text/html": [
              "<div><iframe src=\"https://55285.gradio.app\" width=\"900\" height=\"500\" allow=\"autoplay; camera; microphone;\" frameborder=\"0\" allowfullscreen></iframe></div>"
            ]
          },
          "metadata": {}
        },
        {
          "output_type": "stream",
          "name": "stderr",
          "text": [
            "Traceback (most recent call last):\n",
            "  File \"/usr/local/lib/python3.7/dist-packages/gradio/routes.py\", line 256, in run_predict\n",
            "    fn_index, raw_input, username, session_state\n",
            "  File \"/usr/local/lib/python3.7/dist-packages/gradio/blocks.py\", line 544, in process_api\n",
            "    predictions, duration = await self.call_function(fn_index, processed_input)\n",
            "  File \"/usr/local/lib/python3.7/dist-packages/gradio/blocks.py\", line 459, in call_function\n",
            "    block_fn.fn, *processed_input, limiter=self.limiter\n",
            "  File \"/usr/local/lib/python3.7/dist-packages/anyio/to_thread.py\", line 32, in run_sync\n",
            "    func, *args, cancellable=cancellable, limiter=limiter\n",
            "  File \"/usr/local/lib/python3.7/dist-packages/anyio/_backends/_asyncio.py\", line 937, in run_sync_in_worker_thread\n",
            "    return await future\n",
            "  File \"/usr/local/lib/python3.7/dist-packages/anyio/_backends/_asyncio.py\", line 867, in run\n",
            "    result = context.run(func, *args)\n",
            "  File \"/usr/local/lib/python3.7/dist-packages/gradio/interface.py\", line 509, in <lambda>\n",
            "    if len(self.output_components) == 1\n",
            "  File \"/usr/local/lib/python3.7/dist-packages/gradio/interface.py\", line 712, in run_prediction\n",
            "    prediction = predict_fn(*processed_input)\n",
            "  File \"<ipython-input-44-a04ae25a863b>\", line 2, in classify_image\n",
            "    inp = inp.reshape((-1, 224, 224, 3))\n",
            "AttributeError: 'NoneType' object has no attribute 'reshape'\n"
          ]
        }
      ],
      "source": [
        "gr.Interface(fn=classify_image, inputs=image, outputs=label,\n",
        "             title=\"AI LSF Classifier\",\n",
        "             description=\"This classifier uses transfer learning to identify letters of LSF\"\n",
        "             ).launch(debug=True)"
      ]
    }
  ],
  "metadata": {
    "colab": {
      "collapsed_sections": [],
      "name": "INTRO to AI final.ipynb",
      "provenance": []
    },
    "kernelspec": {
      "display_name": "Python 3",
      "name": "python3"
    },
    "language_info": {
      "name": "python"
    },
    "accelerator": "GPU"
  },
  "nbformat": 4,
  "nbformat_minor": 0
}